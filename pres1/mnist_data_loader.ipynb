{
 "cells": [
  {
   "cell_type": "code",
   "execution_count": 1,
   "metadata": {},
   "outputs": [],
   "source": [
    "import torch as nn\n",
    "import matplotlib.pyplot as plt\n",
    "%matplotlib inline\n",
    "from sklearn.datasets import fetch_openml\n"
   ]
  },
  {
   "cell_type": "code",
   "execution_count": 2,
   "metadata": {},
   "outputs": [],
   "source": [
    "X, y = fetch_openml('mnist_784', version=1, return_X_y=True)"
   ]
  },
  {
   "cell_type": "code",
   "execution_count": 3,
   "metadata": {},
   "outputs": [
    {
     "name": "stdout",
     "output_type": "stream",
     "text": [
      "<class 'pandas.core.frame.DataFrame'>\n",
      "<class 'pandas.core.series.Series'>\n"
     ]
    }
   ],
   "source": [
    "print( type(X) )\n",
    "print( type(y) )"
   ]
  },
  {
   "cell_type": "code",
   "execution_count": 4,
   "metadata": {},
   "outputs": [],
   "source": [
    "import numpy as np\n",
    "from sklearn.model_selection import train_test_split"
   ]
  },
  {
   "cell_type": "code",
   "execution_count": 5,
   "metadata": {},
   "outputs": [],
   "source": [
    "def imshow( img ):\n",
    "    \"\"\"\n",
    "    Taken from:\n",
    "    https://pytorch.org/tutorials/beginner/blitz/cifar10_tutorial.html\n",
    "    \"\"\"\n",
    "    img = img / 2 + 0.5     # unnormalize\n",
    "    plt.imshow(img)\n",
    "    plt.show()"
   ]
  },
  {
   "cell_type": "code",
   "execution_count": 6,
   "metadata": {},
   "outputs": [],
   "source": [
    "def split_format_torch( X, y, height, width, split=0.1 ):\n",
    "    \n",
    "    \"\"\"\n",
    "    Split data into train/test sets.\n",
    "    \"\"\"\n",
    "    X_train, X_test, y_train, y_test = train_test_split(X, y, \n",
    "                                                        test_size=split, \n",
    "                                                        random_state=42)\n",
    "    \n",
    "    \"\"\"\n",
    "    Convert into numpy arrays\n",
    "    \"\"\"\n",
    "    X_train = X_train.to_numpy()\n",
    "    X_train = X_train.reshape( X_train.shape[0], 1, height, width )\n",
    "    \n",
    "    y_train = y_train.to_numpy()\n",
    "    y_train = y_train.astype( int )\n",
    "    \n",
    "    X_test = X_test.to_numpy()\n",
    "    X_test = X_test.reshape( X_test.shape[0], 1, height, width )\n",
    "    \n",
    "    y_test = y_test.to_numpy()\n",
    "    y_test = y_test.astype( int )\n",
    "    \n",
    "    \"\"\"\n",
    "    Convert to torch format for nn\n",
    "    \"\"\"\n",
    "    X_train_torch = nn.from_numpy( X_train )\n",
    "    y_train_torch = nn.from_numpy( y_train )\n",
    "    \n",
    "    X_test_torch = nn.from_numpy( X_test )\n",
    "    y_test_torch = nn.from_numpy( y_test )\n",
    "    \n",
    "    \n",
    "    return X_train_torch, X_test_torch, y_train_torch, y_test_torch\n",
    "    \n",
    "    \n",
    "    \n",
    "    "
   ]
  },
  {
   "cell_type": "code",
   "execution_count": 7,
   "metadata": {},
   "outputs": [],
   "source": [
    "trainX, testX, trainy, testy = split_format_torch( X, y, 28, 28 )"
   ]
  },
  {
   "cell_type": "code",
   "execution_count": 8,
   "metadata": {},
   "outputs": [
    {
     "name": "stdout",
     "output_type": "stream",
     "text": [
      "torch.Size([63000, 1, 28, 28])\n",
      "torch.Size([63000])\n",
      "torch.Size([7000, 1, 28, 28])\n",
      "torch.Size([7000])\n"
     ]
    }
   ],
   "source": [
    "print( trainX.shape )\n",
    "print( trainy.shape )\n",
    "\n",
    "print( testX.shape )\n",
    "print( testy.shape )"
   ]
  },
  {
   "cell_type": "code",
   "execution_count": 9,
   "metadata": {},
   "outputs": [
    {
     "data": {
      "image/png": "[encoded data removed]",
      "text/plain": [
       "<Figure size 432x288 with 1 Axes>"
      ]
     },
     "metadata": {
      "needs_background": "light"
     },
     "output_type": "display_data"
    },
    {
     "name": "stdout",
     "output_type": "stream",
     "text": [
      "tensor(8)\n"
     ]
    }
   ],
   "source": [
    "imshow( trainX[0].view( 28, 28) )\n",
    "print( trainy[0] )"
   ]
  },
  {
   "cell_type": "code",
   "execution_count": 10,
   "metadata": {},
   "outputs": [],
   "source": [
    "nn.save( trainX, \"trainX.pt\" )\n",
    "nn.save( testX, \"testX.pt\" )\n",
    "nn.save( trainy, \"trainy.pt\" )\n",
    "nn.save( testy, \"testy.pt\" )"
   ]
  },
  {
   "cell_type": "code",
   "execution_count": null,
   "metadata": {},
   "outputs": [],
   "source": []
  }
 ],
 "metadata": {
  "kernelspec": {
   "display_name": "Python 3",
   "language": "python",
   "name": "python3"
  },
  "language_info": {
   "codemirror_mode": {
    "name": "ipython",
    "version": 3
   },
   "file_extension": ".py",
   "mimetype": "text/x-python",
   "name": "python",
   "nbconvert_exporter": "python",
   "pygments_lexer": "ipython3",
   "version": "3.9.1"
  }
 },
 "nbformat": 4,
 "nbformat_minor": 4
}
