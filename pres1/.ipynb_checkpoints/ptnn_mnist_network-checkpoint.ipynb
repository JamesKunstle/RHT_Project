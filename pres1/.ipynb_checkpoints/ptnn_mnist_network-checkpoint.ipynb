{
 "cells": [
  {
   "cell_type": "code",
   "execution_count": 1,
   "metadata": {},
   "outputs": [],
   "source": [
    "import torch as nn \n",
    "import torch.nn.functional as F\n",
    "from torch.autograd import Variable\n",
    "from torch.nn import Linear, ReLU, CrossEntropyLoss, Sequential, Conv2d, MaxPool2d, Module, Softmax, BatchNorm2d, Dropout\n",
    "from torch.optim import Adam, SGD\n",
    "\n",
    "from tqdm import trange\n",
    "import numpy as np\n",
    "import pandas as pd\n",
    "from sklearn.metrics import accuracy_score\n",
    "\n",
    "import matplotlib.pyplot as plt \n",
    "%matplotlib inline\n"
   ]
  },
  {
   "cell_type": "code",
   "execution_count": 2,
   "metadata": {},
   "outputs": [],
   "source": [
    "trainX = nn.load( \"trainX.pt\" )\n",
    "trainy = nn.load( \"trainy.pt\" )\n",
    "testX = nn.load( \"testX.pt\" )\n",
    "testy = nn.load( \"testy.pt\" )"
   ]
  },
  {
   "cell_type": "code",
   "execution_count": 3,
   "metadata": {},
   "outputs": [
    {
     "data": {
      "image/png": "[encoded data removed]",
      "text/plain": [
       "<Figure size 432x288 with 1 Axes>"
      ]
     },
     "metadata": {
      "needs_background": "light"
     },
     "output_type": "display_data"
    },
    {
     "name": "stdout",
     "output_type": "stream",
     "text": [
      "tensor(8)\n"
     ]
    }
   ],
   "source": [
    "plt.imshow( trainX[0].view(28, 28) )\n",
    "plt.show()\n",
    "\n",
    "print( trainy[0] )"
   ]
  },
  {
   "cell_type": "code",
   "execution_count": 10,
   "metadata": {},
   "outputs": [
    {
     "name": "stdout",
     "output_type": "stream",
     "text": [
      "512\n"
     ]
    }
   ],
   "source": [
    "class Net( Module ):\n",
    "    def __init__( self ):\n",
    "        #init super class\n",
    "        super(Net, self).__init__()\n",
    "        \n",
    "        #define conv layer arch\n",
    "        self.conv1 = Conv2d(1, 32, 2)\n",
    "        self.conv2 = Conv2d(32, 64, 2)\n",
    "        self.conv3 = Conv2d(64, 128, 2)\n",
    "        \n",
    "        #1-step forwrd prop for conv output shape\n",
    "        t = nn.randn( 28,28 ).view( -1, 1, 28, 28 )\n",
    "        self._linear_shape = None\n",
    "        self.conv_pipe( t )\n",
    "        \n",
    "        print( self._linear_shape )\n",
    "        \n",
    "        #fully-connected layers\n",
    "        self.fc1 = Linear( self._linear_shape, 512 )\n",
    "        self.fc2 = Linear( 512, 10 )\n",
    "        \n",
    "    def conv_pipe(self, x):\n",
    "        #first conv layer with an activation function and pooling\n",
    "        x = self.conv1( x )\n",
    "        x = F.relu( x )\n",
    "        x = F.max_pool2d( x, (2, 2) )\n",
    "        \n",
    "        #second conv layer with an activation function and pooling\n",
    "        x = self.conv2( x )\n",
    "        x = F.relu( x )\n",
    "        x = F.max_pool2d( x, (2, 2) )\n",
    "        \n",
    "        #third conv layer with an activation function and pooling\n",
    "        x = self.conv3( x )\n",
    "        x = F.relu( x )\n",
    "        x = F.max_pool2d( x, (2, 2) )\n",
    "        \n",
    "        #forward pass to get shape of the flattened conv layer,\n",
    "        #only runs once when class instantiated\n",
    "        if self._linear_shape is None:\n",
    "            shape = x[0].shape[0] * x[0].shape[1] * x[0].shape[2]\n",
    "            self._linear_shape = shape\n",
    "            \n",
    "        return x\n",
    "    \n",
    "    def forward( self, x ):\n",
    "        #conv layers\n",
    "        x = self.conv_pipe( x )\n",
    "        \n",
    "        #shape\n",
    "        x = x.view( -1, self._linear_shape )\n",
    "        \n",
    "        #linear layers\n",
    "        x = F.relu( self.fc1( x ) )\n",
    "        x = self.fc2( x )\n",
    "        \n",
    "        #activated output classications\n",
    "        #loss wasn't changing until I changed this.\n",
    "        return F.log_softmax( x, dim=1)\n",
    "    \n",
    "model = Net().float()    \n",
    "        "
   ]
  },
  {
   "cell_type": "code",
   "execution_count": 19,
   "metadata": {},
   "outputs": [
    {
     "name": "stderr",
     "output_type": "stream",
     "text": [
      "100%|██████████| 1969/1969 [00:20<00:00, 95.11it/s]\n",
      "100%|██████████| 1969/1969 [00:21<00:00, 91.57it/s]\n",
      "100%|██████████| 1969/1969 [00:20<00:00, 94.87it/s]\n",
      "100%|██████████| 1969/1969 [00:21<00:00, 93.19it/s]\n"
     ]
    }
   ],
   "source": [
    "optimizer = Adam( model.parameters(), lr=0.001 )\n",
    "lossF = CrossEntropyLoss() \n",
    "BATCH_SIZE = 32\n",
    "EPOCHS = 4\n",
    "\n",
    "loss_history = []\n",
    "accuracy_history = []\n",
    "\n",
    "for epoch in range(EPOCHS): \n",
    "    for i in trange( 0, len(trainX), BATCH_SIZE ):\n",
    "        #X and ygt of batch\n",
    "        bX = trainX[i:i+BATCH_SIZE].view(-1, 1, 28, 28)\n",
    "        by = trainy[i:i+BATCH_SIZE]\n",
    "        \n",
    "        #train model, calculate loss\n",
    "        model.zero_grad()\n",
    "        outputs = model( bX.float() )\n",
    "        loss = F.nll_loss( outputs, by )\n",
    "        \n",
    "        #store loss\n",
    "        loss_values.append( loss )\n",
    "        \n",
    "        #backward step\n",
    "        loss.backward()\n",
    "        optimizer.step()"
   ]
  },
  {
   "cell_type": "code",
   "execution_count": 20,
   "metadata": {},
   "outputs": [
    {
     "data": {
      "text/plain": [
       "0.9794285714285714"
      ]
     },
     "execution_count": 20,
     "metadata": {},
     "output_type": "execute_result"
    }
   ],
   "source": [
    "with nn.no_grad():\n",
    "    output = model( testX.view(-1, 1, 28, 28).float() )\n",
    "    \n",
    "sf = nn.exp( output )\n",
    "prob = list( sf.numpy() )\n",
    "predictions = np.argmax(prob, axis=1)\n",
    "\n",
    "accuracy_score( testy, predictions )"
   ]
  },
  {
   "cell_type": "code",
   "execution_count": 22,
   "metadata": {},
   "outputs": [
    {
     "data": {
      "image/png": "[encoded data removed]",
      "text/plain": [
       "<Figure size 432x288 with 1 Axes>"
      ]
     },
     "metadata": {
      "needs_background": "light"
     },
     "output_type": "display_data"
    },
    {
     "name": "stdout",
     "output_type": "stream",
     "text": [
      "9\n"
     ]
    }
   ],
   "source": [
    "plt.imshow( testX[1234].view(28, 28))\n",
    "plt.show()\n",
    "\n",
    "print( predictions[1234] )"
   ]
  },
  {
   "cell_type": "code",
   "execution_count": null,
   "metadata": {},
   "outputs": [],
   "source": []
  }
 ],
 "metadata": {
  "kernelspec": {
   "display_name": "Python 3",
   "language": "python",
   "name": "python3"
  },
  "language_info": {
   "codemirror_mode": {
    "name": "ipython",
    "version": 3
   },
   "file_extension": ".py",
   "mimetype": "text/x-python",
   "name": "python",
   "nbconvert_exporter": "python",
   "pygments_lexer": "ipython3",
   "version": "3.9.1"
  }
 },
 "nbformat": 4,
 "nbformat_minor": 4
}
